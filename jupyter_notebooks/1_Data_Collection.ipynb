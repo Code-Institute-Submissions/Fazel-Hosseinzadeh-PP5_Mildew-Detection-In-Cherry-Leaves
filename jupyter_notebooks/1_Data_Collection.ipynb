{
  "cells": [
    {
      "cell_type": "markdown",
      "metadata": {
        "id": "0aStgWSO0E0E"
      },
      "source": [
        "# **Data Collection**"
      ]
    },
    {
      "cell_type": "markdown",
      "metadata": {
        "id": "1eLEkw5O0ECa"
      },
      "source": [
        "## Objectives\n",
        "\n",
        "* Installing all the necessary packages\n",
        "* Fetch raw data from Kaggle\n",
        "* Clean raw data and preparing data\n",
        "\n",
        "## Inputs\n",
        "\n",
        "* Kaggle JSON file (authentication token)\n",
        "* Download raw data from Kaggle\n",
        "\n",
        "## Outputs\n",
        "\n",
        "* Store clean and prepared data in bellow directory:inputs/datasets/cherry_leaves_dataset\n",
        "\n",
        "## Additional Comments\n",
        "\n",
        "* No additional comments.\n",
        "\n"
      ]
    },
    {
      "cell_type": "markdown",
      "metadata": {
        "id": "9uWZXH9LwoQg"
      },
      "source": [
        "---"
      ]
    },
    {
      "cell_type": "markdown",
      "metadata": {
        "id": "cqP-UeN-z3i2"
      },
      "source": [
        "# Change working directory"
      ]
    },
    {
      "cell_type": "markdown",
      "metadata": {},
      "source": [
        "* We are assuming you will store the notebooks in a subfolder, therefore when running the notebook in the editor, you will need to change the working directory"
      ]
    },
    {
      "cell_type": "markdown",
      "metadata": {
        "id": "aOGIGS-uz3i2"
      },
      "source": [
        "We need to change the working directory from its current folder to its parent folder\n",
        "* We access the current directory with os.getcwd()"
      ]
    },
    {
      "cell_type": "code",
      "execution_count": 1,
      "metadata": {
        "id": "wZfF_j-Bz3i4",
        "outputId": "66943449-1436-4c3d-85c7-b85f9f78349b"
      },
      "outputs": [
        {
          "data": {
            "text/plain": [
              "'c:\\\\Users\\\\fazel.DESKTOP-2JBP228\\\\OneDrive\\\\Desktop\\\\PP5\\\\PP5_Mildew-Detection-In-Cherry-Leaves\\\\jupyter_notebooks'"
            ]
          },
          "execution_count": 1,
          "metadata": {},
          "output_type": "execute_result"
        }
      ],
      "source": [
        "import os\n",
        "current_dir = os.getcwd()\n",
        "current_dir"
      ]
    },
    {
      "cell_type": "markdown",
      "metadata": {
        "id": "9MWW8E7lz3i7"
      },
      "source": [
        "We want to make the parent of the current directory the new current directory\n",
        "* os.path.dirname() gets the parent directory\n",
        "* os.chir() defines the new current directory"
      ]
    },
    {
      "cell_type": "code",
      "execution_count": 2,
      "metadata": {
        "id": "TwHsQRWjz3i9",
        "outputId": "86849db3-cd2f-4cc5-ebb8-2d0caafa1a2c"
      },
      "outputs": [
        {
          "name": "stdout",
          "output_type": "stream",
          "text": [
            "You set a new current directory\n"
          ]
        }
      ],
      "source": [
        "os.chdir(os.path.dirname(current_dir))\n",
        "print(\"You set a new current directory\")"
      ]
    },
    {
      "cell_type": "markdown",
      "metadata": {
        "id": "M_xPk_Ijz3i-"
      },
      "source": [
        "Confirm the new current directory"
      ]
    },
    {
      "cell_type": "code",
      "execution_count": 3,
      "metadata": {
        "id": "vz3S-_kjz3jA",
        "outputId": "00b79ae4-75d0-4a96-d193-ac9ef9847ea2"
      },
      "outputs": [
        {
          "data": {
            "text/plain": [
              "'c:\\\\Users\\\\fazel.DESKTOP-2JBP228\\\\OneDrive\\\\Desktop\\\\PP5\\\\PP5_Mildew-Detection-In-Cherry-Leaves'"
            ]
          },
          "execution_count": 3,
          "metadata": {},
          "output_type": "execute_result"
        }
      ],
      "source": [
        "current_dir = os.getcwd()\n",
        "current_dir"
      ]
    },
    {
      "cell_type": "markdown",
      "metadata": {},
      "source": [
        "# Installing necessary packages"
      ]
    },
    {
      "cell_type": "code",
      "execution_count": 4,
      "metadata": {},
      "outputs": [
        {
          "name": "stdout",
          "output_type": "stream",
          "text": [
            "Requirement already satisfied: numpy==1.19.2 in c:\\users\\fazel.desktop-2jbp228\\appdata\\local\\programs\\python\\python38\\lib\\site-packages (from -r requirements.txt (line 1)) (1.19.2)\n",
            "Requirement already satisfied: pandas==1.1.2 in c:\\users\\fazel.desktop-2jbp228\\appdata\\local\\programs\\python\\python38\\lib\\site-packages (from -r requirements.txt (line 2)) (1.1.2)\n",
            "Requirement already satisfied: matplotlib==3.3.1 in c:\\users\\fazel.desktop-2jbp228\\appdata\\local\\programs\\python\\python38\\lib\\site-packages (from -r requirements.txt (line 3)) (3.3.1)\n",
            "Requirement already satisfied: seaborn==0.11.0 in c:\\users\\fazel.desktop-2jbp228\\appdata\\local\\programs\\python\\python38\\lib\\site-packages (from -r requirements.txt (line 4)) (0.11.0)\n",
            "Requirement already satisfied: plotly==4.12.0 in c:\\users\\fazel.desktop-2jbp228\\appdata\\local\\programs\\python\\python38\\lib\\site-packages (from -r requirements.txt (line 5)) (4.12.0)\n",
            "Requirement already satisfied: streamlit==0.85.0 in c:\\users\\fazel.desktop-2jbp228\\appdata\\local\\programs\\python\\python38\\lib\\site-packages (from -r requirements.txt (line 7)) (0.85.0)\n",
            "Requirement already satisfied: scikit-learn==0.24.2 in c:\\users\\fazel.desktop-2jbp228\\appdata\\local\\programs\\python\\python38\\lib\\site-packages (from -r requirements.txt (line 9)) (0.24.2)\n",
            "Requirement already satisfied: tensorflow-cpu==2.6.0 in c:\\users\\fazel.desktop-2jbp228\\appdata\\local\\programs\\python\\python38\\lib\\site-packages (from -r requirements.txt (line 10)) (2.6.0)\n",
            "Requirement already satisfied: keras==2.6.0 in c:\\users\\fazel.desktop-2jbp228\\appdata\\local\\programs\\python\\python38\\lib\\site-packages (from -r requirements.txt (line 11)) (2.6.0)\n",
            "Requirement already satisfied: protobuf==3.20 in c:\\users\\fazel.desktop-2jbp228\\appdata\\local\\programs\\python\\python38\\lib\\site-packages (from -r requirements.txt (line 12)) (3.20.0)\n",
            "Requirement already satisfied: altair<5 in c:\\users\\fazel.desktop-2jbp228\\appdata\\local\\programs\\python\\python38\\lib\\site-packages (from -r requirements.txt (line 13)) (4.2.2)\n",
            "Requirement already satisfied: python-dateutil>=2.7.3 in c:\\users\\fazel.desktop-2jbp228\\appdata\\local\\programs\\python\\python38\\lib\\site-packages (from pandas==1.1.2->-r requirements.txt (line 2)) (2.9.0.post0)\n",
            "Requirement already satisfied: pytz>=2017.2 in c:\\users\\fazel.desktop-2jbp228\\appdata\\local\\programs\\python\\python38\\lib\\site-packages (from pandas==1.1.2->-r requirements.txt (line 2)) (2024.1)\n",
            "Requirement already satisfied: certifi>=2020.06.20 in c:\\users\\fazel.desktop-2jbp228\\appdata\\local\\programs\\python\\python38\\lib\\site-packages (from matplotlib==3.3.1->-r requirements.txt (line 3)) (2024.2.2)\n",
            "Requirement already satisfied: cycler>=0.10 in c:\\users\\fazel.desktop-2jbp228\\appdata\\local\\programs\\python\\python38\\lib\\site-packages (from matplotlib==3.3.1->-r requirements.txt (line 3)) (0.12.1)\n",
            "Requirement already satisfied: kiwisolver>=1.0.1 in c:\\users\\fazel.desktop-2jbp228\\appdata\\local\\programs\\python\\python38\\lib\\site-packages (from matplotlib==3.3.1->-r requirements.txt (line 3)) (1.4.5)\n",
            "Requirement already satisfied: pillow>=6.2.0 in c:\\users\\fazel.desktop-2jbp228\\appdata\\local\\programs\\python\\python38\\lib\\site-packages (from matplotlib==3.3.1->-r requirements.txt (line 3)) (10.3.0)\n",
            "Requirement already satisfied: pyparsing!=2.0.4,!=2.1.2,!=2.1.6,>=2.0.3 in c:\\users\\fazel.desktop-2jbp228\\appdata\\local\\programs\\python\\python38\\lib\\site-packages (from matplotlib==3.3.1->-r requirements.txt (line 3)) (3.1.2)\n",
            "Requirement already satisfied: scipy>=1.0 in c:\\users\\fazel.desktop-2jbp228\\appdata\\local\\programs\\python\\python38\\lib\\site-packages (from seaborn==0.11.0->-r requirements.txt (line 4)) (1.9.3)\n",
            "Requirement already satisfied: retrying>=1.3.3 in c:\\users\\fazel.desktop-2jbp228\\appdata\\local\\programs\\python\\python38\\lib\\site-packages (from plotly==4.12.0->-r requirements.txt (line 5)) (1.3.4)\n",
            "Requirement already satisfied: six in c:\\users\\fazel.desktop-2jbp228\\appdata\\local\\programs\\python\\python38\\lib\\site-packages (from plotly==4.12.0->-r requirements.txt (line 5)) (1.15.0)\n",
            "Requirement already satisfied: astor in c:\\users\\fazel.desktop-2jbp228\\appdata\\local\\programs\\python\\python38\\lib\\site-packages (from streamlit==0.85.0->-r requirements.txt (line 7)) (0.8.1)\n",
            "Requirement already satisfied: attrs in c:\\users\\fazel.desktop-2jbp228\\appdata\\local\\programs\\python\\python38\\lib\\site-packages (from streamlit==0.85.0->-r requirements.txt (line 7)) (23.2.0)\n",
            "Requirement already satisfied: base58 in c:\\users\\fazel.desktop-2jbp228\\appdata\\local\\programs\\python\\python38\\lib\\site-packages (from streamlit==0.85.0->-r requirements.txt (line 7)) (2.1.1)\n",
            "Requirement already satisfied: blinker in c:\\users\\fazel.desktop-2jbp228\\appdata\\local\\programs\\python\\python38\\lib\\site-packages (from streamlit==0.85.0->-r requirements.txt (line 7)) (1.8.2)\n",
            "Requirement already satisfied: cachetools>=4.0 in c:\\users\\fazel.desktop-2jbp228\\appdata\\local\\programs\\python\\python38\\lib\\site-packages (from streamlit==0.85.0->-r requirements.txt (line 7)) (5.3.3)\n",
            "Requirement already satisfied: click<8.0,>=7.0 in c:\\users\\fazel.desktop-2jbp228\\appdata\\local\\programs\\python\\python38\\lib\\site-packages (from streamlit==0.85.0->-r requirements.txt (line 7)) (7.1.2)\n",
            "Requirement already satisfied: packaging in c:\\users\\fazel.desktop-2jbp228\\appdata\\local\\programs\\python\\python38\\lib\\site-packages (from streamlit==0.85.0->-r requirements.txt (line 7)) (24.0)\n",
            "Requirement already satisfied: pyarrow in c:\\users\\fazel.desktop-2jbp228\\appdata\\local\\programs\\python\\python38\\lib\\site-packages (from streamlit==0.85.0->-r requirements.txt (line 7)) (16.0.0)\n",
            "Requirement already satisfied: pydeck>=0.1.dev5 in c:\\users\\fazel.desktop-2jbp228\\appdata\\local\\programs\\python\\python38\\lib\\site-packages (from streamlit==0.85.0->-r requirements.txt (line 7)) (0.9.1)\n",
            "Requirement already satisfied: requests in c:\\users\\fazel.desktop-2jbp228\\appdata\\local\\programs\\python\\python38\\lib\\site-packages (from streamlit==0.85.0->-r requirements.txt (line 7)) (2.31.0)\n",
            "Requirement already satisfied: toml in c:\\users\\fazel.desktop-2jbp228\\appdata\\local\\programs\\python\\python38\\lib\\site-packages (from streamlit==0.85.0->-r requirements.txt (line 7)) (0.10.2)\n",
            "Requirement already satisfied: tornado>=5.0 in c:\\users\\fazel.desktop-2jbp228\\appdata\\local\\programs\\python\\python38\\lib\\site-packages (from streamlit==0.85.0->-r requirements.txt (line 7)) (6.4)\n",
            "Requirement already satisfied: tzlocal in c:\\users\\fazel.desktop-2jbp228\\appdata\\local\\programs\\python\\python38\\lib\\site-packages (from streamlit==0.85.0->-r requirements.txt (line 7)) (5.2)\n",
            "Requirement already satisfied: validators in c:\\users\\fazel.desktop-2jbp228\\appdata\\local\\programs\\python\\python38\\lib\\site-packages (from streamlit==0.85.0->-r requirements.txt (line 7)) (0.28.1)\n",
            "Requirement already satisfied: gitpython in c:\\users\\fazel.desktop-2jbp228\\appdata\\local\\programs\\python\\python38\\lib\\site-packages (from streamlit==0.85.0->-r requirements.txt (line 7)) (3.1.43)\n",
            "Requirement already satisfied: watchdog in c:\\users\\fazel.desktop-2jbp228\\appdata\\local\\programs\\python\\python38\\lib\\site-packages (from streamlit==0.85.0->-r requirements.txt (line 7)) (4.0.0)\n",
            "Requirement already satisfied: joblib>=0.11 in c:\\users\\fazel.desktop-2jbp228\\appdata\\local\\programs\\python\\python38\\lib\\site-packages (from scikit-learn==0.24.2->-r requirements.txt (line 9)) (1.4.2)\n",
            "Requirement already satisfied: threadpoolctl>=2.0.0 in c:\\users\\fazel.desktop-2jbp228\\appdata\\local\\programs\\python\\python38\\lib\\site-packages (from scikit-learn==0.24.2->-r requirements.txt (line 9)) (3.5.0)\n",
            "Requirement already satisfied: absl-py~=0.10 in c:\\users\\fazel.desktop-2jbp228\\appdata\\local\\programs\\python\\python38\\lib\\site-packages (from tensorflow-cpu==2.6.0->-r requirements.txt (line 10)) (0.15.0)\n",
            "Requirement already satisfied: astunparse~=1.6.3 in c:\\users\\fazel.desktop-2jbp228\\appdata\\local\\programs\\python\\python38\\lib\\site-packages (from tensorflow-cpu==2.6.0->-r requirements.txt (line 10)) (1.6.3)\n",
            "Requirement already satisfied: clang~=5.0 in c:\\users\\fazel.desktop-2jbp228\\appdata\\local\\programs\\python\\python38\\lib\\site-packages (from tensorflow-cpu==2.6.0->-r requirements.txt (line 10)) (5.0)\n",
            "Requirement already satisfied: flatbuffers~=1.12.0 in c:\\users\\fazel.desktop-2jbp228\\appdata\\local\\programs\\python\\python38\\lib\\site-packages (from tensorflow-cpu==2.6.0->-r requirements.txt (line 10)) (1.12)\n",
            "Requirement already satisfied: google-pasta~=0.2 in c:\\users\\fazel.desktop-2jbp228\\appdata\\local\\programs\\python\\python38\\lib\\site-packages (from tensorflow-cpu==2.6.0->-r requirements.txt (line 10)) (0.2.0)\n",
            "Requirement already satisfied: h5py~=3.1.0 in c:\\users\\fazel.desktop-2jbp228\\appdata\\local\\programs\\python\\python38\\lib\\site-packages (from tensorflow-cpu==2.6.0->-r requirements.txt (line 10)) (3.1.0)\n",
            "Requirement already satisfied: keras-preprocessing~=1.1.2 in c:\\users\\fazel.desktop-2jbp228\\appdata\\local\\programs\\python\\python38\\lib\\site-packages (from tensorflow-cpu==2.6.0->-r requirements.txt (line 10)) (1.1.2)\n",
            "Requirement already satisfied: opt-einsum~=3.3.0 in c:\\users\\fazel.desktop-2jbp228\\appdata\\local\\programs\\python\\python38\\lib\\site-packages (from tensorflow-cpu==2.6.0->-r requirements.txt (line 10)) (3.3.0)\n",
            "Requirement already satisfied: termcolor~=1.1.0 in c:\\users\\fazel.desktop-2jbp228\\appdata\\local\\programs\\python\\python38\\lib\\site-packages (from tensorflow-cpu==2.6.0->-r requirements.txt (line 10)) (1.1.0)\n",
            "Requirement already satisfied: typing-extensions~=3.7.4 in c:\\users\\fazel.desktop-2jbp228\\appdata\\local\\programs\\python\\python38\\lib\\site-packages (from tensorflow-cpu==2.6.0->-r requirements.txt (line 10)) (3.7.4.3)\n",
            "Requirement already satisfied: wheel~=0.35 in c:\\users\\fazel.desktop-2jbp228\\appdata\\local\\programs\\python\\python38\\lib\\site-packages (from tensorflow-cpu==2.6.0->-r requirements.txt (line 10)) (0.43.0)\n",
            "Requirement already satisfied: wrapt~=1.12.1 in c:\\users\\fazel.desktop-2jbp228\\appdata\\local\\programs\\python\\python38\\lib\\site-packages (from tensorflow-cpu==2.6.0->-r requirements.txt (line 10)) (1.12.1)\n",
            "Requirement already satisfied: gast==0.4.0 in c:\\users\\fazel.desktop-2jbp228\\appdata\\local\\programs\\python\\python38\\lib\\site-packages (from tensorflow-cpu==2.6.0->-r requirements.txt (line 10)) (0.4.0)\n",
            "Requirement already satisfied: tensorboard~=2.6 in c:\\users\\fazel.desktop-2jbp228\\appdata\\local\\programs\\python\\python38\\lib\\site-packages (from tensorflow-cpu==2.6.0->-r requirements.txt (line 10)) (2.14.0)\n",
            "Requirement already satisfied: tensorflow-estimator~=2.6 in c:\\users\\fazel.desktop-2jbp228\\appdata\\local\\programs\\python\\python38\\lib\\site-packages (from tensorflow-cpu==2.6.0->-r requirements.txt (line 10)) (2.15.0)\n",
            "Requirement already satisfied: grpcio<2.0,>=1.37.0 in c:\\users\\fazel.desktop-2jbp228\\appdata\\local\\programs\\python\\python38\\lib\\site-packages (from tensorflow-cpu==2.6.0->-r requirements.txt (line 10)) (1.63.0)\n",
            "Requirement already satisfied: entrypoints in c:\\users\\fazel.desktop-2jbp228\\appdata\\local\\programs\\python\\python38\\lib\\site-packages (from altair<5->-r requirements.txt (line 13)) (0.4)\n",
            "Requirement already satisfied: jinja2 in c:\\users\\fazel.desktop-2jbp228\\appdata\\local\\programs\\python\\python38\\lib\\site-packages (from altair<5->-r requirements.txt (line 13)) (3.1.1)\n",
            "Requirement already satisfied: jsonschema>=3.0 in c:\\users\\fazel.desktop-2jbp228\\appdata\\local\\programs\\python\\python38\\lib\\site-packages (from altair<5->-r requirements.txt (line 13)) (4.22.0)\n",
            "Requirement already satisfied: toolz in c:\\users\\fazel.desktop-2jbp228\\appdata\\local\\programs\\python\\python38\\lib\\site-packages (from altair<5->-r requirements.txt (line 13)) (0.12.1)\n",
            "Requirement already satisfied: importlib-resources>=1.4.0 in c:\\users\\fazel.desktop-2jbp228\\appdata\\local\\programs\\python\\python38\\lib\\site-packages (from jsonschema>=3.0->altair<5->-r requirements.txt (line 13)) (6.4.0)\n",
            "Requirement already satisfied: jsonschema-specifications>=2023.03.6 in c:\\users\\fazel.desktop-2jbp228\\appdata\\local\\programs\\python\\python38\\lib\\site-packages (from jsonschema>=3.0->altair<5->-r requirements.txt (line 13)) (2023.12.1)\n",
            "Requirement already satisfied: pkgutil-resolve-name>=1.3.10 in c:\\users\\fazel.desktop-2jbp228\\appdata\\local\\programs\\python\\python38\\lib\\site-packages (from jsonschema>=3.0->altair<5->-r requirements.txt (line 13)) (1.3.10)\n",
            "Requirement already satisfied: referencing>=0.28.4 in c:\\users\\fazel.desktop-2jbp228\\appdata\\local\\programs\\python\\python38\\lib\\site-packages (from jsonschema>=3.0->altair<5->-r requirements.txt (line 13)) (0.35.1)\n",
            "Requirement already satisfied: rpds-py>=0.7.1 in c:\\users\\fazel.desktop-2jbp228\\appdata\\local\\programs\\python\\python38\\lib\\site-packages (from jsonschema>=3.0->altair<5->-r requirements.txt (line 13)) (0.18.1)\n",
            "Requirement already satisfied: MarkupSafe>=2.0 in c:\\users\\fazel.desktop-2jbp228\\appdata\\local\\programs\\python\\python38\\lib\\site-packages (from jinja2->altair<5->-r requirements.txt (line 13)) (2.1.5)\n",
            "Requirement already satisfied: google-auth<3,>=1.6.3 in c:\\users\\fazel.desktop-2jbp228\\appdata\\local\\programs\\python\\python38\\lib\\site-packages (from tensorboard~=2.6->tensorflow-cpu==2.6.0->-r requirements.txt (line 10)) (2.29.0)\n",
            "Requirement already satisfied: google-auth-oauthlib<1.1,>=0.5 in c:\\users\\fazel.desktop-2jbp228\\appdata\\local\\programs\\python\\python38\\lib\\site-packages (from tensorboard~=2.6->tensorflow-cpu==2.6.0->-r requirements.txt (line 10)) (1.0.0)\n",
            "Requirement already satisfied: markdown>=2.6.8 in c:\\users\\fazel.desktop-2jbp228\\appdata\\local\\programs\\python\\python38\\lib\\site-packages (from tensorboard~=2.6->tensorflow-cpu==2.6.0->-r requirements.txt (line 10)) (3.6)\n",
            "Requirement already satisfied: setuptools>=41.0.0 in c:\\users\\fazel.desktop-2jbp228\\appdata\\local\\programs\\python\\python38\\lib\\site-packages (from tensorboard~=2.6->tensorflow-cpu==2.6.0->-r requirements.txt (line 10)) (56.0.0)\n",
            "Requirement already satisfied: tensorboard-data-server<0.8.0,>=0.7.0 in c:\\users\\fazel.desktop-2jbp228\\appdata\\local\\programs\\python\\python38\\lib\\site-packages (from tensorboard~=2.6->tensorflow-cpu==2.6.0->-r requirements.txt (line 10)) (0.7.2)\n",
            "Requirement already satisfied: werkzeug>=1.0.1 in c:\\users\\fazel.desktop-2jbp228\\appdata\\local\\programs\\python\\python38\\lib\\site-packages (from tensorboard~=2.6->tensorflow-cpu==2.6.0->-r requirements.txt (line 10)) (3.0.3)\n",
            "Requirement already satisfied: charset-normalizer<4,>=2 in c:\\users\\fazel.desktop-2jbp228\\appdata\\local\\programs\\python\\python38\\lib\\site-packages (from requests->streamlit==0.85.0->-r requirements.txt (line 7)) (3.3.2)\n",
            "Requirement already satisfied: idna<4,>=2.5 in c:\\users\\fazel.desktop-2jbp228\\appdata\\local\\programs\\python\\python38\\lib\\site-packages (from requests->streamlit==0.85.0->-r requirements.txt (line 7)) (3.7)\n",
            "Requirement already satisfied: urllib3<3,>=1.21.1 in c:\\users\\fazel.desktop-2jbp228\\appdata\\local\\programs\\python\\python38\\lib\\site-packages (from requests->streamlit==0.85.0->-r requirements.txt (line 7)) (2.2.1)\n",
            "Requirement already satisfied: gitdb<5,>=4.0.1 in c:\\users\\fazel.desktop-2jbp228\\appdata\\local\\programs\\python\\python38\\lib\\site-packages (from gitpython->streamlit==0.85.0->-r requirements.txt (line 7)) (4.0.11)\n",
            "Requirement already satisfied: tzdata in c:\\users\\fazel.desktop-2jbp228\\appdata\\local\\programs\\python\\python38\\lib\\site-packages (from tzlocal->streamlit==0.85.0->-r requirements.txt (line 7)) (2024.1)\n",
            "Requirement already satisfied: backports.zoneinfo in c:\\users\\fazel.desktop-2jbp228\\appdata\\local\\programs\\python\\python38\\lib\\site-packages (from tzlocal->streamlit==0.85.0->-r requirements.txt (line 7)) (0.2.1)\n",
            "Requirement already satisfied: smmap<6,>=3.0.1 in c:\\users\\fazel.desktop-2jbp228\\appdata\\local\\programs\\python\\python38\\lib\\site-packages (from gitdb<5,>=4.0.1->gitpython->streamlit==0.85.0->-r requirements.txt (line 7)) (5.0.1)\n",
            "Requirement already satisfied: pyasn1-modules>=0.2.1 in c:\\users\\fazel.desktop-2jbp228\\appdata\\local\\programs\\python\\python38\\lib\\site-packages (from google-auth<3,>=1.6.3->tensorboard~=2.6->tensorflow-cpu==2.6.0->-r requirements.txt (line 10)) (0.4.0)\n",
            "Requirement already satisfied: rsa<5,>=3.1.4 in c:\\users\\fazel.desktop-2jbp228\\appdata\\local\\programs\\python\\python38\\lib\\site-packages (from google-auth<3,>=1.6.3->tensorboard~=2.6->tensorflow-cpu==2.6.0->-r requirements.txt (line 10)) (4.9)\n",
            "Requirement already satisfied: requests-oauthlib>=0.7.0 in c:\\users\\fazel.desktop-2jbp228\\appdata\\local\\programs\\python\\python38\\lib\\site-packages (from google-auth-oauthlib<1.1,>=0.5->tensorboard~=2.6->tensorflow-cpu==2.6.0->-r requirements.txt (line 10)) (2.0.0)\n",
            "Requirement already satisfied: zipp>=3.1.0 in c:\\users\\fazel.desktop-2jbp228\\appdata\\local\\programs\\python\\python38\\lib\\site-packages (from importlib-resources>=1.4.0->jsonschema>=3.0->altair<5->-r requirements.txt (line 13)) (3.18.1)\n",
            "Requirement already satisfied: importlib-metadata>=4.4 in c:\\users\\fazel.desktop-2jbp228\\appdata\\local\\programs\\python\\python38\\lib\\site-packages (from markdown>=2.6.8->tensorboard~=2.6->tensorflow-cpu==2.6.0->-r requirements.txt (line 10)) (7.1.0)\n",
            "Requirement already satisfied: pyasn1<0.7.0,>=0.4.6 in c:\\users\\fazel.desktop-2jbp228\\appdata\\local\\programs\\python\\python38\\lib\\site-packages (from pyasn1-modules>=0.2.1->google-auth<3,>=1.6.3->tensorboard~=2.6->tensorflow-cpu==2.6.0->-r requirements.txt (line 10)) (0.6.0)\n",
            "Requirement already satisfied: oauthlib>=3.0.0 in c:\\users\\fazel.desktop-2jbp228\\appdata\\local\\programs\\python\\python38\\lib\\site-packages (from requests-oauthlib>=0.7.0->google-auth-oauthlib<1.1,>=0.5->tensorboard~=2.6->tensorflow-cpu==2.6.0->-r requirements.txt (line 10)) (3.2.2)\n",
            "Note: you may need to restart the kernel to use updated packages.\n"
          ]
        }
      ],
      "source": [
        "%pip install -r requirements.txt"
      ]
    },
    {
      "cell_type": "markdown",
      "metadata": {
        "id": "-mavJ8DibrcQ"
      },
      "source": [
        "# Kaggle"
      ]
    },
    {
      "cell_type": "markdown",
      "metadata": {},
      "source": [
        "## Installing the Kaggle API package"
      ]
    },
    {
      "cell_type": "code",
      "execution_count": 5,
      "metadata": {},
      "outputs": [
        {
          "name": "stdout",
          "output_type": "stream",
          "text": [
            "Requirement already satisfied: kaggle==1.5.12 in c:\\users\\fazel.desktop-2jbp228\\appdata\\local\\programs\\python\\python38\\lib\\site-packages (1.5.12)\n",
            "Requirement already satisfied: six>=1.10 in c:\\users\\fazel.desktop-2jbp228\\appdata\\local\\programs\\python\\python38\\lib\\site-packages (from kaggle==1.5.12) (1.15.0)\n",
            "Requirement already satisfied: certifi in c:\\users\\fazel.desktop-2jbp228\\appdata\\local\\programs\\python\\python38\\lib\\site-packages (from kaggle==1.5.12) (2024.2.2)\n",
            "Requirement already satisfied: python-dateutil in c:\\users\\fazel.desktop-2jbp228\\appdata\\local\\programs\\python\\python38\\lib\\site-packages (from kaggle==1.5.12) (2.9.0.post0)\n",
            "Requirement already satisfied: requests in c:\\users\\fazel.desktop-2jbp228\\appdata\\local\\programs\\python\\python38\\lib\\site-packages (from kaggle==1.5.12) (2.31.0)\n",
            "Requirement already satisfied: tqdm in c:\\users\\fazel.desktop-2jbp228\\appdata\\local\\programs\\python\\python38\\lib\\site-packages (from kaggle==1.5.12) (4.66.4)\n",
            "Requirement already satisfied: python-slugify in c:\\users\\fazel.desktop-2jbp228\\appdata\\local\\programs\\python\\python38\\lib\\site-packages (from kaggle==1.5.12) (8.0.4)\n",
            "Requirement already satisfied: urllib3 in c:\\users\\fazel.desktop-2jbp228\\appdata\\local\\programs\\python\\python38\\lib\\site-packages (from kaggle==1.5.12) (2.2.1)\n",
            "Requirement already satisfied: text-unidecode>=1.3 in c:\\users\\fazel.desktop-2jbp228\\appdata\\local\\programs\\python\\python38\\lib\\site-packages (from python-slugify->kaggle==1.5.12) (1.3)\n",
            "Requirement already satisfied: charset-normalizer<4,>=2 in c:\\users\\fazel.desktop-2jbp228\\appdata\\local\\programs\\python\\python38\\lib\\site-packages (from requests->kaggle==1.5.12) (3.3.2)\n",
            "Requirement already satisfied: idna<4,>=2.5 in c:\\users\\fazel.desktop-2jbp228\\appdata\\local\\programs\\python\\python38\\lib\\site-packages (from requests->kaggle==1.5.12) (3.7)\n",
            "Requirement already satisfied: colorama in c:\\users\\fazel.desktop-2jbp228\\appdata\\local\\programs\\python\\python38\\lib\\site-packages (from tqdm->kaggle==1.5.12) (0.4.6)\n",
            "Note: you may need to restart the kernel to use updated packages.\n"
          ]
        }
      ],
      "source": [
        "%pip install kaggle==1.5.12"
      ]
    },
    {
      "cell_type": "markdown",
      "metadata": {
        "id": "ZY3l0-AxO93d"
      },
      "source": [
        "---"
      ]
    },
    {
      "cell_type": "markdown",
      "metadata": {},
      "source": [
        "## Fetch Data From Kaggle"
      ]
    },
    {
      "cell_type": "markdown",
      "metadata": {},
      "source": [
        "change the Kaggle configuration directory to the current working directory"
      ]
    },
    {
      "cell_type": "code",
      "execution_count": 16,
      "metadata": {},
      "outputs": [
        {
          "name": "stdout",
          "output_type": "stream",
          "text": [
            "processed file: kaggle.json\n",
            "Successfully processed 1 files; Failed processing 0 files\n"
          ]
        }
      ],
      "source": [
        "os.environ['KAGGLE_CONFIG_DIR'] = os.getcwd()\n",
        "#Uncomment the bellow command if you are WINDOWS user\n",
        "! icacls \"kaggle.json\" /grant Everyone:(OI)(CI)F\n",
        "\n",
        "#Please uncomment the bellow command if you are LINUX user\n",
        "#! chmod 600 kaggle.json"
      ]
    },
    {
      "cell_type": "markdown",
      "metadata": {},
      "source": [
        "Set the Kaggle Dataset URL and Download it."
      ]
    },
    {
      "cell_type": "code",
      "execution_count": 18,
      "metadata": {},
      "outputs": [
        {
          "name": "stdout",
          "output_type": "stream",
          "text": [
            "403 - Forbidden\n"
          ]
        }
      ],
      "source": [
        "KaggleDatasetPath = \"datasets/codeinstitute/cherry-leaves\"\n",
        "DestinationFolder = \"inputs/cherry-leaves-dataset\"   \n",
        "! kaggle datasets download -d {KaggleDatasetPath} -p {DestinationFolder}"
      ]
    },
    {
      "cell_type": "markdown",
      "metadata": {},
      "source": [
        "Unzip the downloaded file, and delete the zip file."
      ]
    },
    {
      "cell_type": "code",
      "execution_count": 8,
      "metadata": {},
      "outputs": [],
      "source": [
        "import zipfile\n",
        "with zipfile.ZipFile(DestinationFolder + '/cherry-leaves.zip', 'r') as zip_ref:\n",
        "    zip_ref.extractall(DestinationFolder)\n",
        "\n",
        "os.remove(DestinationFolder + '/cherry-leaves.zip')"
      ]
    },
    {
      "cell_type": "markdown",
      "metadata": {},
      "source": [
        "---"
      ]
    },
    {
      "cell_type": "markdown",
      "metadata": {},
      "source": [
        "# Data Preparation"
      ]
    },
    {
      "cell_type": "markdown",
      "metadata": {},
      "source": [
        "## Data Cleaning"
      ]
    },
    {
      "cell_type": "markdown",
      "metadata": {},
      "source": [
        "Function to Check if all data are images"
      ]
    },
    {
      "cell_type": "code",
      "execution_count": 13,
      "metadata": {},
      "outputs": [],
      "source": [
        "def remove_non_image_file(my_data_dir):\n",
        "    image_extension = ('.png', '.jpg', '.jpeg')\n",
        "    folders = os.listdir(my_data_dir)\n",
        "    for folder in folders:\n",
        "        files = os.listdir(my_data_dir + '/' + folder)\n",
        "        # lists for images and non-image files\n",
        "        i = []\n",
        "        j = []\n",
        "        for given_file in files:\n",
        "            if not given_file.lower().endswith(image_extension): # check the file extension\n",
        "                file_location = my_data_dir + '/' + folder + '/' + given_file\n",
        "                os.remove(file_location)  # remove non image file\n",
        "                i.append(1)\n",
        "            else:\n",
        "                j.append(1)\n",
        "                pass\n",
        "        print(f\"Folder: {folder} - has image file\", len(j))\n",
        "        print(f\"Folder: {folder} - has non-image file\", len(i))"
      ]
    },
    {
      "cell_type": "markdown",
      "metadata": {},
      "source": [
        "- Call the function to remove drop the non-image data"
      ]
    },
    {
      "cell_type": "code",
      "execution_count": 14,
      "metadata": {},
      "outputs": [
        {
          "name": "stdout",
          "output_type": "stream",
          "text": [
            "Folder: healthy - has image file 2104\n",
            "Folder: healthy - has non-image file 0\n",
            "Folder: powdery_mildew - has image file 2104\n",
            "Folder: powdery_mildew - has non-image file 0\n"
          ]
        }
      ],
      "source": [
        "remove_non_image_file(my_data_dir='inputs/cherry-leaves-dataset/cherry-leaves')"
      ]
    },
    {
      "cell_type": "markdown",
      "metadata": {},
      "source": [
        "# Split Data To Train Test and Validation"
      ]
    },
    {
      "cell_type": "markdown",
      "metadata": {},
      "source": [
        "Define a function to split data making new directories and remove the old directory"
      ]
    },
    {
      "cell_type": "code",
      "execution_count": 20,
      "metadata": {},
      "outputs": [],
      "source": [
        "import os\n",
        "import shutil\n",
        "import random\n",
        "import joblib\n",
        "\n",
        "\n",
        "def split_train_validation_test_images(my_data_dir, train_set_ratio, validation_set_ratio, test_set_ratio):\n",
        "\n",
        "    if train_set_ratio + validation_set_ratio + test_set_ratio != 1.0:\n",
        "        print(\"train_set_ratio + validation_set_ratio + test_set_ratio should sum to 1.0\")\n",
        "        return\n",
        "\n",
        "    # gets classes labels\n",
        "    labels = os.listdir(my_data_dir)  # it should get only the folder name\n",
        "    if 'test' in labels:\n",
        "        pass\n",
        "    else:\n",
        "        # create train, test folders with classes labels sub-folder\n",
        "        for folder in ['train', 'validation', 'test']:\n",
        "            for label in labels:\n",
        "                os.makedirs(name=my_data_dir + '/' + folder + '/' + label)\n",
        "\n",
        "        for label in labels:\n",
        "\n",
        "            files = os.listdir(my_data_dir + '/' + label)\n",
        "            random.shuffle(files)\n",
        "\n",
        "            train_set_files_qty = int(len(files) * train_set_ratio)\n",
        "            validation_set_files_qty = int(len(files) * validation_set_ratio)\n",
        "\n",
        "            count = 1\n",
        "            for file_name in files:\n",
        "                if count <= train_set_files_qty:\n",
        "                    # move a given file to the train set\n",
        "                    shutil.move(my_data_dir + '/' + label + '/' + file_name,\n",
        "                                my_data_dir + '/train/' + label + '/' + file_name)\n",
        "\n",
        "                elif count <= (train_set_files_qty + validation_set_files_qty):\n",
        "                    # move a given file to the validation set\n",
        "                    shutil.move(my_data_dir + '/' + label + '/' + file_name,\n",
        "                                my_data_dir + '/validation/' + label + '/' + file_name)\n",
        "\n",
        "                else:\n",
        "                    # move given file to test set\n",
        "                    shutil.move(my_data_dir + '/' + label + '/' + file_name,\n",
        "                                my_data_dir + '/test/' + label + '/' + file_name)\n",
        "\n",
        "                count += 1\n",
        "\n",
        "            os.rmdir(my_data_dir + '/' + label)"
      ]
    },
    {
      "cell_type": "markdown",
      "metadata": {},
      "source": [
        "Conventionally,\n",
        "* The training set is divided into a 0.70 ratio of data.\n",
        "* The validation set is divided into a 0.10 ratio of data.\n",
        "* The test set is divided into a 0.20 ratio of data.NOTE"
      ]
    },
    {
      "cell_type": "markdown",
      "metadata": {},
      "source": [
        "Call the function to split data"
      ]
    },
    {
      "cell_type": "code",
      "execution_count": 23,
      "metadata": {},
      "outputs": [],
      "source": [
        "split_train_validation_test_images(my_data_dir=f\"inputs/cherry-leaves-dataset/cherry-leaves\",\n",
        "                                   train_set_ratio=0.7,\n",
        "                                   validation_set_ratio=0.1,\n",
        "                                   test_set_ratio=0.2\n",
        "                                   )"
      ]
    },
    {
      "cell_type": "markdown",
      "metadata": {},
      "source": [
        "---"
      ]
    },
    {
      "cell_type": "markdown",
      "metadata": {
        "id": "ltNetd085qHf"
      },
      "source": [
        "# Push files to Repo"
      ]
    },
    {
      "cell_type": "code",
      "execution_count": 26,
      "metadata": {
        "id": "aKlnIozA4eQO",
        "outputId": "fd09bc1f-adb1-4511-f6ce-492a6af570c0"
      },
      "outputs": [
        {
          "name": "stderr",
          "output_type": "stream",
          "text": [
            "warning: in the working copy of 'jupyter_notebooks/1_Data_Collection.ipynb', LF will be replaced by CRLF the next time Git touches it\n"
          ]
        }
      ],
      "source": [
        "\n",
        "! git add .\n",
        "! git commit -m \"data-collection\""
      ]
    },
    {
      "cell_type": "markdown",
      "metadata": {},
      "source": [
        "# Conclusions"
      ]
    },
    {
      "cell_type": "markdown",
      "metadata": {},
      "source": [
        "- The data has been successfully downloaded from Kaggle\n",
        "- Data has been cleaned\n",
        "- Data has been splitted into train, test, and validation\n",
        "\n",
        "In the next step we are going to visualize data"
      ]
    }
  ],
  "metadata": {
    "accelerator": "GPU",
    "colab": {
      "name": "Data Practitioner Jupyter Notebook.ipynb",
      "provenance": [],
      "toc_visible": true
    },
    "interpreter": {
      "hash": "8b8334dab9339717f727a1deaf837b322d7a41c20d15cc86be99a8e69ceec8ce"
    },
    "kernelspec": {
      "display_name": "Python 3.8.12 64-bit ('3.8.12': pyenv)",
      "name": "python3"
    },
    "language_info": {
      "codemirror_mode": {
        "name": "ipython",
        "version": 3
      },
      "file_extension": ".py",
      "mimetype": "text/x-python",
      "name": "python",
      "nbconvert_exporter": "python",
      "pygments_lexer": "ipython3",
      "version": "3.8.10"
    },
    "orig_nbformat": 2
  },
  "nbformat": 4,
  "nbformat_minor": 2
}
